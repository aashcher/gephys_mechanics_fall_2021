{
 "cells": [
  {
   "cell_type": "markdown",
   "id": "556b31ce",
   "metadata": {},
   "source": [
    "## Общая физика. Механика. Лекция 15. Релятивистская динамика I."
   ]
  },
  {
   "cell_type": "markdown",
   "id": "49adf904",
   "metadata": {},
   "source": [
    "*(c) 2021 Alexey Shcherbakov. These lectures are licensed under a Creative <a href=\"https://creativecommons.org/licenses/by/4.0/\">Commons Attribution License CC-BY 4.0</a>. All code contained herein is licensed under an <a href=\"https://opensource.org/licenses/MIT\">MIT license</a>. The lectures were generated from a <a href=\"https://justinbois.github.io/bootcamp/2017/lessons/l37_jupyter.ipynb\">Jupyter notebook</a>.*"
   ]
  },
  {
   "cell_type": "markdown",
   "id": "8e815697",
   "metadata": {},
   "source": [
    "### План лекции:\n",
    "\n",
    "* 4-скорость\n",
    "* 4-импульс и энергия\n",
    "* дефект масс\n",
    "* уравнение движения, гиперболическое движение"
   ]
  },
  {
   "cell_type": "markdown",
   "id": "fcea216c",
   "metadata": {},
   "source": [
    "### 4-скорость\n",
    "\n",
    "По аналогии с евклидовым пространством можно рассматривать векторы в пространстве Минковского. Выше была введена длина радиус-вектора в пространстве-времени через интервал. Аналогично можно ввести произвольный четырехмерный вектор, имеющий временную и три пространственные компоненты, норма которого задается разностью квадратов временной и пространственной частей, а компоненты преобразуются в соответствии с преобразованиями Лоренца:\n",
    "$${\\bf A} = (A^0,A^1,A^2,A^3),\\;|{\\bf A}| = (A^0)^2 - (A^1)^2 - (A^2)^2 - (A^3)^2$$\n",
    "$$ {A^0}' = \\gamma(A^0-\\beta A^1) $$\n",
    "$$ {A^1}' = \\gamma(A^1-\\beta A^0) $$\n",
    "Здесь мы не будем вдаваться в подробности, почему, вместо нижних индексов, использованы верхние, и примем эту форму записи за стандарт.\n",
    "\n",
    "Таким образом, чтобы определить вектор 4-скорости некоторой частицы, компоненты которого при переходе из одной ИСО в другую должны изменяться в сооветствии с преобразованиями Лоренца, можно взять приращение кординаты $d{\\bf R}=(d\\tau,dx,dy,dz)$ разделить на величину, инвариантную относительно преобразований Лоренца, - приращение собственного времени частицы $dt_c = dt\\sqrt{1-v^2/c^2}$. Тогда, учитывая, что трехмерная скорость частицы есть ${\\bf v}=(dx/dt,dy/dt,dz,dt)$, для четыре-скорости получаем явное выражение\n",
    "$${\\bf V} = \\frac{d{\\bf R}}{dt_c} = \\left( \\gamma c, \\gamma\\frac{dx}{dt}, \\gamma\\frac{dy}{dt}, \\gamma\\frac{dz}{dt}\\right) = (\\gamma c, \\gamma{\\bf v})$$\n",
    "Здесь и далее будем обозначать 4-векторы заглавными символами, а 3-векторы - строчными. По построению квадрат 4-вектора скорости является инвариантом. Явное вычисление дает\n",
    "$$|{\\bf V}|^2 = \\gamma^2c^2 - \\gamma^2v^2 = c^2$$\n",
    "Как и для любого 4-вектора, компоненты 4-скорости при изменении ИСО преобразуются с помощью преобразований Лоренца.\n",
    "Это преобразование дает второй способ вывода закона преобразования скоростей, полученного ранее. Рассмотрим одномерное движение, и обозначим $v_x$ - скорость частицы относительно исходной ИСО, $v_x'$ - скорость частицы относительно новой системы, и $u$ - относительная скорость систем. Обозначим бета и гамма-факторы, содержащие относительную скорость $u$ как $B = u/c$ и $\\Gamma = 1/\\sqrt{1-u^2/c^2}$ соответственно. Тогда\n",
    "$$\\begin{array}. {V^0}' = \\Gamma(V^0-B V^1) \\\\ {V^1}' = \\Gamma(V^1-B V^0) \\end{array} \\Rightarrow \\begin{array}. \\gamma'c = \\Gamma(\\gamma c-B\\gamma v_x) \\\\ \\gamma'v_x' = \\Gamma(\\gamma v_x - B\\gamma c) \\end{array} \\Rightarrow v_x' = \\frac{v_x - u}{1-v_xu/c^2}$$"
   ]
  },
  {
   "cell_type": "markdown",
   "id": "4be4521c",
   "metadata": {},
   "source": [
    "### 4-импульс и энергия\n",
    "\n",
    "4-импульс определим по аналогии с классической механикой как\n",
    "$${\\bf P} = m{\\bf V} = (\\gamma mc, \\gamma m{\\bf v})$$\n",
    "Тогда уравнение движения, инвариантное относительно преобразований Лоренца, запишется как\n",
    "$$\\frac{d{\\bf P}}{dt_c} = m\\frac{d{\\bf V}}{dt_c} = \\left(\\gamma\\frac{d(\\gamma mc)}{dt}, \\gamma\\frac{d(\\gamma m{\\bf v})}{dt}\\right) = \\Phi = (\\phi^0, \\vec{\\phi})$$\n",
    "Здесь $\\Phi$ - 4-сила и производная $d/dt_c = \\gamma d/dt$. При этом необходимо пояснить, что означает собственное время для частицы, скорость которой изменяется. Ранее собственное время было введено как время, измеренное по часам ИСО, в которой частица покоится. Для ускоряющейся или замедляющейся частицы можно рассмотреть бесконечное множество ИСО, движущихся с разными скоростями, так что в каждый момент для частицы, имеющей текущую скорость $v$, можно найти ИСО, скорость которой также равна $v$, и в этой ИСО можно замерить бесконечно малое приращение собственного времени $dt_c$. Такая ИСО называется сопутствующей системой отсчета.\n",
    "\n",
    "Поскольку в пределе малых скоростей, пространственная часть уравнения движения должна сводиться к классическому уравнению движения материальной точки, можно видеть, что\n",
    "$$\\vec{\\phi} = \\gamma {\\bf F}$$\n",
    "где ${\\bf F}$ - обычная трехмерная сила. Обобщением трехмерного импульса будет трехмерная величина\n",
    "$${\\bf p} = \\gamma m{\\bf v}$$\n",
    "\n",
    "Чтобы выяснить смысл временной компоненты 4-силы и интерпретировать временную компоненту четырехмерного уравнения движения, продифференцируем квадрат модуля 4-скорости, который является инвариантом:\n",
    "$$|{\\bf V}|^2 = (V^0)^2+(V^1)^2+(V^2)^2+(V^3)^2 = c^2\\Rightarrow$$\n",
    "$$\\Rightarrow V^0\\frac{dV^0}{dt_c} + V^1\\frac{dV^1}{dt_c} + V^2\\frac{dV^2}{dt_c} + V^3\\frac{dV^3}{dt_c} = 0$$\n",
    "Умножим эти уравнения на массу рассматриваемой частицы, компоненты 4-скорости в явном виде, и выразим слагаемые через компоненты 4-силы:\n",
    "$$\\gamma c\\phi^0 + \\gamma^2{\\bf v}\\cdot{\\bf F} = 0 \\Rightarrow \\phi^0 = \\gamma \\frac{{\\bf v}\\cdot{\\bf F}}{c}$$\n",
    "Тогда уравнение движения на временную компоненту 4-импульса запишется как\n",
    "$$\\gamma\\frac{d}{dt}(\\gamma mc) = \\gamma\\frac{{\\bf v}\\cdot{\\bf F}}{c} \\Rightarrow \\frac{d}{dt}(\\gamma mc^2) = {\\bf v}\\cdot{\\bf F}$$\n",
    "Член, стоящий в правой части уравнения, есть ни что иное, как мощность силы ${\\bf F}$. Работа силы идет на изменение механической энергии, поэтому на основании левой части последнего уравнения получаем выражение для механической энергии релятивистской частицы:\n",
    "$$E = \\gamma mc^2$$\n",
    "\n",
    "Таким образом, 4-импульс можно записать через трехмерный импульс и механическую энергию частицы:\n",
    "$${\\bf P} = (E/c,{\\bf p})$$\n",
    "поэтому этот вектор еще называют 4-вектором энергии импусльса, а его инвариант\n",
    "$$|{\\bf P}|^2 = E^2/c^2 - |{\\bf p}|^2 = I$$\n",
    "называют инвариантом энергии-импульса. Инвариант удобно записать в системе отсчета, где частица покоится:\n",
    "$$I = m^2c^2 \\Rightarrow E^2 - c^2|{\\bf p}|^2 = (mc^2)^2$$\n",
    "Энергия при нулевой скорости\n",
    "$$E_0 = mc^2$$\n",
    "называется энергией покоя. Тогда кинетическую энергию движения естественно определить как разность полной энергии и энергии покоя\n",
    "$$T = \\gamma mc^2 - mc^2$$\n",
    "Можно убедиться, что в нерелятивистском случае получается уже известное выражение:\n",
    "$$\\lim_{v/c\\rightarrow0}T = \\lim_{v/c\\rightarrow0} \\left( \\frac{mc^2}{\\sqrt{1-v^2/c^2}}-mc^2 \\right) = \\lim_{v/c\\rightarrow0} mc^2\\left( 1 + \\frac{1}{2}\\frac{v^2}{c^2} - 1 \\right) = \\frac{1}{2}mv^2$$\n",
    "\n",
    "Выражение для энергии показывает, что для достижения скорости света, частице нужно сообщить бесконечную энергию. Поэтому массивные частицы не могут достичь скорости $c$. Безмассовые же частицы (фотон) всегда движутся со скоростью света, и из инварианта энергии-импульса получается связь между имупльсом и энергией таких частиц:\n",
    "$$p = \\frac{E}{c}$$"
   ]
  },
  {
   "cell_type": "markdown",
   "id": "948e6c12",
   "metadata": {},
   "source": [
    "### Дефект масс\n",
    "\n",
    "Поскольку выражение для импульса частицы в релятивистском случае отличается от соответствующего классического выражения, закон аддитивности массы при вообще говоря не выполняется. Поскольку выражение $E_0=mc^2$ связывает массу и энергию, можно ожидать, что в системах взаимодействующих частиц масса будет зависеть не только от конетической энергии движения, но и от полной энергии взаимодействия. Рассмотрим некоторую систему, полная масса покоя которой равна $M$. Тогда инвариант энергии-импульса\n",
    "$$M^2c^2 = \\frac{\\left(\\sum_iE_i\\right)^2}{c^2} - \\left(\\sum{\\bf p}_i\\right)^2$$\n",
    "Здесь суммирование производится по всем частицам системы. В системе отсчета, где полный импульс равен нулю,\n",
    "$$M = \\frac{\\sum_iE_i}{c^2} = \\frac{\\sum_i(m_ic^2+T_i) + U}{c^2} = \\sum_im_i + \\frac{1}{c^2}\\sum_iT_i + \\frac{U}{c^2}$$\n",
    "где $U$ - суммарная потенциальная энергия взаимодействия частиц. Если это энергия связи, то в положении равновесия $U<0$. Допустим, кинетической энергией можно пренебречь, $\\sum_iT_i\\ll|U|$. Тогда разность\n",
    "$$\\Delta M = \\sum_im_i-M = -\\frac{U}{c^2}$$\n",
    "называется дефектом масс.\n",
    "\n",
    "Например, при нагревании железного утюга до $200^{\\circ}C$, его относительное увеличение его массы составляет приблизительно $\\Delta m/m\\sim10^{-12}$. Здесь учтено, что энергия одного килограмма вещества $mc^2\\sim10^{17}$ Дж, а энергия, передаваемая при нагреве $\\Delta Q\\sim10^5$ Дж."
   ]
  },
  {
   "cell_type": "markdown",
   "id": "6dcecd9b",
   "metadata": {},
   "source": [
    "### Уравнение движения релятивистской частицы, гиперболическое движение\n",
    "\n",
    "Запишем временную и пространственную часть четырехмерного уравнения движения, полученного ранее:\n",
    "$$\\frac{d{\\bf P}}{dt_c}=\\Phi \\Rightarrow \\begin{array}. dE/dt = {\\bf v}\\cdot{\\bf F} \\\\ d(\\gamma m{\\bf v})/dt = {\\bf F} \\end{array}$$\n",
    "Раскроем производную во второй строке и подставим первую:\n",
    "$$\\frac{d}{dt}(\\gamma m{\\bf v}) = \\frac{d}{dt}(\\frac{E}{c^2}{\\bf v}) = \\frac{\\bf v}{c^2}\\frac{dE}{dt} + \\frac{E}{c^2}\\frac{d{\\bf v}}{dt} = \\frac{\\bf v ({\\bf v}\\cdot{\\bf F})}{c^2} + \\gamma m\\frac{d{\\bf v}}{dt}$$\n",
    "откуда можно выразить производную скорости:\n",
    "$$m\\frac{d{\\bf v}}{dt} = \\frac{1}{\\gamma}\\left[ {\\bf F} - \\frac{\\bf v ({\\bf v}\\cdot{\\bf F})}{c^2} \\right]$$\n",
    "Таким образом, в релятивистском случае трехмерное ускорение, вообще говоря, не сонаправлено с силой. Можно выделить частные случаи, когда полученное уравнение можно упростить. Если сила перпендикулярна скорости, то ${\\bf v}\\cdot{\\bf F}=0$, и\n",
    "$$\\gamma m\\frac{d{\\bf v}}{dt} = {\\bf F}$$\n",
    "Если сила параллельна скорости,\n",
    "$$\\gamma^3 m\\frac{d{\\bf v}}{dt} = {\\bf F}$$\n",
    "\n",
    "Рассмотрим частный случай одномерного прямолинейного движения вдоль некоторой оси $X$. Если сила постоянна в системе отсчета частицы, и направлена параллельно этой оси, то уравнение движения в сопутствующей системе отсчета\n",
    "$$F_x = m\\frac{d}{dt}\\left(\\frac{v_x}{\\sqrt{1-v_x^2/c^2}}\\right) \\Rightarrow \\frac{F_xt}{m} = \\frac{v_x}{\\sqrt{1-v_x^2/c^2}}  \\Rightarrow$$\n",
    "$$ \\Rightarrow v_x(t) = \\frac{F_xt/m}{\\sqrt{1+(F_xt/mc)^2}} = \\frac{v_{кл}(t)}{\\sqrt{1+(v_{кл}(t)/c)^2}}$$\n",
    "где $v_{кл}(t) = F_xt/m$ - результат, который бы получился в рамках классической механики. Нетрудно видеть, что для любого конечного момента времени $v(t) < c$."
   ]
  },
  {
   "cell_type": "code",
   "execution_count": 32,
   "id": "04648556",
   "metadata": {},
   "outputs": [
    {
     "data": {
      "image/png": "[encoded data removed]",
      "text/plain": [
       "<Figure size 432x288 with 1 Axes>"
      ]
     },
     "metadata": {
      "needs_background": "light"
     },
     "output_type": "display_data"
    }
   ],
   "source": [
    "# построим зависимость классической и релятивистской скорости от времени:\n",
    "import matplotlib.pyplot as plt\n",
    "import numpy as np\n",
    "\n",
    "c = 3e8 # скорость света\n",
    "C = 1/c # константа Fm/c при F=1Н и m=1кг\n",
    "Ty = 3.156e7 # год в секундах\n",
    "\n",
    "t_cl = np.linspace(0,c,100)\n",
    "v_cl = C*t_cl # классическая скорость\n",
    "t_rl = np.linspace(0,1.5*c,100)\n",
    "v_rl = C*t_rl/np.sqrt(1+(C*t_rl)**2) # релятивистская скорость\n",
    "t_lim = np.linspace(0,14*Ty,100)\n",
    "v_lim = np.linspace(1,1,100) # v=c\n",
    "\n",
    "fig = plt.figure()\n",
    "ax = fig.add_axes([0, 0, 1, 1])\n",
    "ax.plot(t_cl, v_cl, 'r', label='классическая скорость')\n",
    "ax.plot(t_rl, v_rl, 'b', label='релятивистская скорость')\n",
    "ax.plot(t_lim, v_lim, 'g-.', linewidth = 0.7)\n",
    "ax.set_xlabel('время')\n",
    "ax.set_ylabel(r'$v/c$')\n",
    "ax.set_xticks([0,Ty,5*Ty,10*Ty,15*Ty])\n",
    "ax.set_xticklabels(['0','1 год','5 лет','10 лет','15 лет'])\n",
    "leg = ax.legend()\n",
    "plt.show()"
   ]
  },
  {
   "cell_type": "markdown",
   "id": "950f1bf7",
   "metadata": {},
   "source": [
    "Рассмотренную задачу можно переформулировать - ускорение должно быть постоянно в сопустствующей системе отсчета. Это ускорение $a_x = F_x/m$. Найдем зависимость координаты от времени:\n",
    "$$\\frac{dx}{dt} = \\frac{a_xt}{\\sqrt{1 + (a_xt/c)^2}} \\Rightarrow x(t) = x_0 + \\frac{c^2}{a_x}\\sqrt{1+(a_xt/c)^2}$$\n",
    "При условии $x(0) = c^2/a_x$, получаем\n",
    "$$\\left(\\frac{x}{c^2/a_x}\\right)^2 - \\left(\\frac{ct}{c^2/a_x}\\right)^2 = 1$$\n",
    "На диаграмме Минковского это гипербола, поэтому такое движение еще называют гиперболическим."
   ]
  },
  {
   "cell_type": "markdown",
   "id": "fa4f5c2e",
   "metadata": {},
   "source": [
    "### Реактивное движение\n",
    "\n",
    "В качестве примера получим релятивистский аналог формулы Циолковского. Рассмотрим одномерное движение ракеты и вылет некоторый малой массы газа из этой ракеты. Пусть начальная масса ракеты с газом $m$, масса ракеты после выброса малой части газа - $m'$, энергия и скорость вылетевшего газа в системе отсчета лабораторного наблюдателя - $\\varepsilon$ и $u$ соответственно. Тогда по законам сохранения энергии и импульса, считая изменения всех величин малыми\n",
    "$$\\left\\{ \\begin{array}. \\gamma mc^2 = \\gamma'm'c^2 + \\varepsilon \\\\ \\gamma mv = \\gamma'm'v' - \\varepsilon u/c^2 \\end{array} \\right. \\Rightarrow \\left\\{ \\begin{array}. d(\\gamma mc^2) = -\\varepsilon \\\\ d(\\gamma mv) = \\varepsilon u/c^2 \\end{array} \\right. \\Rightarrow $$\n",
    "$$ \\Rightarrow ud(\\gamma m) = -d(\\gamma mv) = -vd(\\gamma m)-\\gamma mdv \\Rightarrow \\frac{d(\\gamma m)}{\\gamma m} = -\\frac{dv}{u+v}$$\n",
    "По аналогии с классическим случаем будем считать, что скорость вылета газов в сопутствующей ракете системе отсчета постоянна и равна $u_0$. По закону преобразования скоростей\n",
    "$$u = \\frac{u_0-v}{1-u_0v/c^2} \\Rightarrow u+v = u_0\\frac{1-v^2/c^2}{1-u_0v/c^2}$$\n",
    "Тогда уравнение на изменение величины $\\gamma m$ запишется как\n",
    "$$\\frac{d(\\gamma m)}{\\gamma m} = \\frac{v/c^2-1/u_0}{1-v^2/c^2}dv = \\frac{1}{c^2}\\frac{vdv}{1-v^2/c^2} - \\frac{1}{2u_0}\\left(\\frac{dv}{1-v/c} + \\frac{dv}{1+v/c}\\right)$$\n",
    "Пусть масса ракеты уменьшилась от начальной $m_0$ до $m$. При этом скорость изменилась от $0$ до $v$. Тогда интегрирование дает\n",
    "$$\\ln\\left(\\frac{\\gamma m}{m_0}\\right) = -\\frac{1}{2}\\ln\\left(1-\\frac{v^2}{c^2}\\right) - \\frac{c}{2u_0}\\ln\\left(\\frac{1+v/c}{1-v/c}\\right) = \\ln\\gamma - \\frac{c}{2u_0}\\ln\\left(\\frac{1+v/c}{1-v/c}\\right)$$\n",
    "Отсюда получаем ответ:\n",
    "$$\\frac{m}{m_0} = \\left(\\frac{1-v/c}{1+v/c}\\right)^{c/2u_0}$$\n",
    "Используя известный предел, можно проверить, что при малых скоростях это выражение переходит в формулу Циолковского:\n",
    "$$\\lim_{v/c\\rightarrow0}\\frac{m_0}{m} = \\lim_{v/c\\rightarrow0}\\left(\\frac{1+v/c}{1-v/c}\\right)^{c/2u_0}  = \\lim_{v/c\\rightarrow0}\\left(1+2\\frac{v/c}{1-v/c}\\right)^{(c/2v)(v/u_0)} = \\left(\\lim_{x\\rightarrow0}\\left(1+x\\right)^{1/x}\\right)^{v/u_0} = e^{v/u_0}$$"
   ]
  }
 ],
 "metadata": {
  "kernelspec": {
   "display_name": "Python 3",
   "language": "python",
   "name": "python3"
  },
  "language_info": {
   "codemirror_mode": {
    "name": "ipython",
    "version": 3
   },
   "file_extension": ".py",
   "mimetype": "text/x-python",
   "name": "python",
   "nbconvert_exporter": "python",
   "pygments_lexer": "ipython3",
   "version": "3.8.8"
  }
 },
 "nbformat": 4,
 "nbformat_minor": 5
}
