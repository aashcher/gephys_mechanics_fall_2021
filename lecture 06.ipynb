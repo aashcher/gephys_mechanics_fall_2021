{
 "cells": [
  {
   "cell_type": "markdown",
   "id": "556b31ce",
   "metadata": {},
   "source": [
    "## Общая физика. Механика. Лекция 6. Потенциальная энергия. Столкновения частиц."
   ]
  },
  {
   "cell_type": "markdown",
   "id": "49adf904",
   "metadata": {},
   "source": [
    "*(c) 2021 Alexey Shcherbakov. These lectures are licensed under a Creative <a href=\"https://creativecommons.org/licenses/by/4.0/\">Commons Attribution License CC-BY 4.0</a>. All code contained herein is licensed under an <a href=\"https://opensource.org/licenses/MIT\">MIT license</a>. The lectures were generated from a <a href=\"https://justinbois.github.io/bootcamp/2017/lessons/l37_jupyter.ipynb\">Jupyter notebook</a>.*"
   ]
  },
  {
   "cell_type": "markdown",
   "id": "8e815697",
   "metadata": {},
   "source": [
    "### План лекции:\n",
    "\n",
    "* связь силы и потенциальной энергии\n",
    "* финитное и инфинитное движение\n",
    "* упругие столкновения частиц\n",
    "* неупругие столкновения частиц"
   ]
  },
  {
   "cell_type": "markdown",
   "id": "bb5b3cfd",
   "metadata": {},
   "source": [
    "### Связь силы и потенциальной энергии\n",
    "\n",
    "Для потенциальной энергии как функции координат $U\\left(x,y,z\\right)$ говорят, что в пространстве задано потенциальное поле. Поле является особой формой материи, поэтому его можно рассматривать отдельно от тел, создающих это поле: например, гравитационное поле в каком-то объеме и массивных тел, создающих это поле. На любое пробное тело, помещенное в область ненулевого поля будет действовать потенциальная сила. Элементарную работу такой силы можно выразить с одной стороны, по определению, а с другой - через убыль потенциальной энергии:\n",
    "$$dA={\\bf F}\\cdot d{\\bf r}=U\\left({\\bf r}\\right)-U\\left({\\bf r}+d{\\bf r}\\right)=-dU$$\n",
    "Компоненту силы и соответствующее изменение потенциальной энергии можно рассмотреть отдельно вдоль каждой оси декартовой системы координат:\n",
    "$$F_{x}dx+F_{y}dy+F_{z}dx=-dU\\Rightarrow$$\n",
    "$$\\Rightarrow F_{x}=-\\left(\\dfrac{dU}{dx}\\right)_{y,z}=-\\dfrac{\\partial U}{\\partial x},F_{y}=-\\left(\\dfrac{dU}{dy}\\right)_{x,z}=-\\dfrac{\\partial U}{\\partial y},F_{z}=-\\left(\\dfrac{dU}{dz}\\right)_{x,y}=-\\dfrac{\\partial U}{\\partial z}$$\n",
    "Производные функции нескольких аргументов по одному из аргументов при фиксированных остальных, например $\\partial U/\\partial x$, называются частными производными. Для векторного обозначения получившегося соотношения используют так называемый оператор градиента ($\\mathrm{grad}$) или оператором набла $\\nabla$:\n",
    "$${\\bf F}=-\\mathrm{grad}\\left(U\\right)\\equiv -\\nabla U=-\\dfrac{\\partial U}{\\partial x}\\hat{{\\bf e}}_{x}-\\dfrac{\\partial U}{\\partial y}\\hat{{\\bf e}}_{y}-\\dfrac{\\partial U}{\\partial z}\\hat{{\\bf e}}_{z}$$\n",
    "Введенный таким образом оператор сопоставляет скалярной функции координат вектор. Например, \n",
    "$$U=\\dfrac{1}{2}\\alpha r^{2}, r=\\sqrt{x^{2}+y^{2}+z^{2}}.$$\n",
    "Тогда\n",
    "$$F_{x}=-\\dfrac{\\partial U}{\\partial x}=-\\alpha x,F_{y}=-\\dfrac{\\partial U}{\\partial y}=-\\alpha y,F_{z}=-\\dfrac{\\partial U}{\\partial z}=-\\alpha z\\Rightarrow{\\bf F}=-\\alpha{\\bf r}$$"
   ]
  },
  {
   "cell_type": "markdown",
   "id": "5bb71022",
   "metadata": {},
   "source": [
    "### Полная энергия в системе с потенцильными взаимодействиями\n",
    "\n",
    "С помощью потенциальной энергии как функции координат можно дать некоторые характеристики движения материальной точки, не вычисляя точных тракторий. Для простоты и наглядности ограничимся одномерным движением и функцией $U(x)$. Во-первых, в состоянии равновесия сила, действующая на материальную точку, равна нулю. В соответствии с геометрической интерпретацией производной, потенциал должен иметь в этом положении экстремум - минимум или максимум. В соотвествии с формулой $F=-dU/dx$ видно, что в минимум потенциальной энергии соответствует устойчивому положению равновесия - в окрестности этого положения возникает сила, стремящаяся вернуть материальную точку обратно в равновесие, - а  максимум - неустойчивому (см Рисунок).\n",
    "\n",
    "<figure>\n",
    "    <center>\n",
    "    <img src=\"./fig/lect06_fig01.png\" width=\"450\" align=\"center\"/>\n",
    "        <figcaption>Усточивое и неустойчивое положения равновесия</figcaption>\n",
    "    </center>\n",
    "</figure>\n",
    "\n",
    "Теперь рассмотрим функцию $U(x)$ на всей оси. Полная механическая энергия в отсутствие диссипативных сил сохраняется, $K+U\\left(x\\right)=E=const$. Поэтому при заданной полной энергии движение материальной точки допустимо исключительно в областях с $U\\left(x\\right)\\leq E$ (горизонтальные линии на рисунке). Вид этих областей показывает, может ли в процессе движения материальная точка уйти на бесконечность, или же она все время будет двигаться в ограниченной области пространства. В первом случае движение называется инфинитным, во втором - финитным. В рамках классической механики переход тела между двумя областями, где разрешено движение, разделенных областью, где потенциальная энергия $U(x)>E$, запрещен. Позднее при изучении квантовой механики мы увидим, что в рамках квантовой теории такой переход может осуществиться, и в физике такие эффекты называют туннелирование под потенциальным барьером.\n",
    "\n",
    "<figure>\n",
    "    <center>\n",
    "    <img src=\"./fig/lect06_fig02.png\" width=\"500\" align=\"center\"/>\n",
    "        <figcaption>Слева: область, соответствующая финитной траектории; в центре: область, соответствующая инфинитной траектории; справа: две области, разделенные потенциальным барьером - в рамках классической механики переход между областями невозможен (пунктирная стрелка), но в рамках квантовой - возможен.</figcaption>\n",
    "    </center>\n",
    "</figure>\n",
    "\n",
    "С помощью закона сохранения энергии можно связать время движения в заданном потенциале с координатами, между которыми происходит перемещение материальной точки следующим образом:\n",
    "$$\\dfrac{1}{2}m\\left(\\dfrac{dx}{dt}\\right)^{2}+U\\left(x\\right)=E\\Rightarrow\\dfrac{dx}{dt}=\\sqrt{\\dfrac{2}{m}}\\sqrt{E-U\\left(x\\right)}\\Rightarrow t=\\sqrt{\\dfrac{m}{2}}\\int\\limits_{x_1}^{x_2}\\dfrac{dx}{\\sqrt{E-U\\left(x\\right)}}+const$$\n",
    "\n",
    "С помощью этого соотношения можно, например, посчитать период колебаний пружнного маятника. Потенциальня энергия груза на пружинке имеет вид параболы: $U=\\frac{1}{2}kx^{2}$. Значит, движение всегда ограниченное - финитное. При заданной полной энергии груз совершает движение между двумя крайними точками, в которых кинетическая энергия равна нулю:\n",
    "$$U_{max}=E\\Rightarrow \\frac{1}{2}kx^{2}_{max}=E\\Rightarrow x_{max}=\\sqrt{2E/k}$$\n",
    "Время движения от одного крайнего положения к другому равняется половине периода колебаний:\n",
    "$$T=2\\sqrt{\\frac{m}{2}}\\intop_{-x_{max}}^{x_{max}}\\dfrac{dx}{\\sqrt{E-\\dfrac{1}{2}kx^{2}}} = \\sqrt{2m}\\sqrt{\\dfrac{2}{k}}\\intop_{-x_{max}}^{x_{max}} \\dfrac{dx}{\\sqrt{2E/k-x^{2}}} = 2\\sqrt{\\dfrac{m}{k}}\\left.\\arcsin\\left(\\frac{x}{\\sqrt{2E/k}}\\right)\\right|_{-x_{max}}^{x_{max}} = 2\\pi\\sqrt{\\dfrac{m}{k}}$$\n",
    "\n",
    "<figure>\n",
    "    <center>\n",
    "    <img src=\"./fig/lect06_fig03.png\" width=\"300\" align=\"center\"/>\n",
    "        <figcaption>Движение груза на пружинке</figcaption>\n",
    "    </center>\n",
    "</figure>"
   ]
  },
  {
   "cell_type": "code",
   "execution_count": 9,
   "id": "e097c858",
   "metadata": {},
   "outputs": [
    {
     "data": {
      "image/png": "[encoded data removed]",
      "text/plain": [
       "<Figure size 432x288 with 1 Axes>"
      ]
     },
     "metadata": {
      "needs_background": "light"
     },
     "output_type": "display_data"
    }
   ],
   "source": [
    "# Пример: энергия парного взаимодействия двух сферических неполярных молекул (потенциал Леннарда-Джонса):\n",
    "# U(r) = 4e(a/r^{12}-b/r^{6})\n",
    "# Он описывает притяжение на больших расстояниях и отталкивание на малых.\n",
    "# Движение может быть как финитным при E<0, так и инфинитным при E>0.\n",
    "import matplotlib.pyplot as plt\n",
    "import numpy as np\n",
    "\n",
    "x = np.linspace(1,3,100)\n",
    "y = x**(-12) - 0.5*(x**(-6))\n",
    "\n",
    "fig = plt.figure()\n",
    "plt.plot(x,y, 'r')\n",
    "plt.show()"
   ]
  },
  {
   "cell_type": "markdown",
   "id": "56a0bd8d",
   "metadata": {},
   "source": [
    "### Столкновения частиц\n",
    "\n",
    "Важной областью приложений изученных законов сохранения энергии и импульса являются столкновения частиц. При упругих столкновениях не происходит превращений частиц и изменения их внутреннего состояния, и полная механическая энергия сохраняется. При неупругих столкновениях, например, возбуждении атомов и ионов, или превращениях частиц (например, $\\mathrm{D+D\\rightarrow ^3He+n}$) механическая энергия не сохраняется. Поскольку процесс столкновения, как правило, происходит в очень малой области пространства, изменением потенциальной энергии частиц во внешних силовых полях можно пренебречь, и выражать полную механическую энергию через кинетическую энергию движения частиц. При этом как при упругих, так и неупругих столкновениях можно пользоваться законом сохранения импульса ввиду того, что импульс внешних сил $\\int{\\bf F}dt$ изсчезающе мал ввиду малости времени взаимодействия."
   ]
  },
  {
   "cell_type": "markdown",
   "id": "1e9c77a0",
   "metadata": {},
   "source": [
    "### Упругое столкновение двух материальных точек в одномерном случае\n",
    "\n",
    "Рассмотрим сначала простой случай - упругое столкновение двух материальных точек, движущихся по одной прямой как до, так и после столкновения. Обозначим скорости до столкновения как $v_1^{(1)}$ и $v_2^{(1)}$, после столкновения - $v_1^{(2)}$ и $v_2^{(2)}$. Тогда законы сохранения импусьса и кинетической энергии\n",
    "\n",
    "$$m_1v_1^{(1)} + m_2v_2^{(1)} = m_1v_1^{(2)} + m_2v_2^{(2)}$$\n",
    "$$\\frac{1}{2}m_1\\left(v_1^{(1)}\\right)^2 + \\frac{1}{2}m_2\\left(v_2^{(1)}\\right)^2 = \\frac{1}{2}m_1\\left(v_1^{(2)}\\right)^2 + \\frac{1}{2}m_2\\left(v_2^{(2)}\\right)^2$$\n",
    "\n",
    "<figure>\n",
    "    <center>\n",
    "    <img src=\"./fig/lect06_fig04.png\" width=\"300\" align=\"center\"/>\n",
    "        <figcaption>Одномерное столкновение двух частиц</figcaption>\n",
    "    </center>\n",
    "</figure>\n",
    "\n",
    "Допустим, что скорости до столкновения известны. Найдем скорости после столкновения. Для этого перобразуем закон сохранения импуса\n",
    "$$m_1\\left(v_1^{(1)} - v_1^{(2)}\\right) = m_2\\left(v_2^{(2)} - v_2^{(1)}\\right)$$\n",
    "и закон сохранения энергии:\n",
    "$$m_1\\left[\\left(v_1^{(1)}\\right)^2 - \\left(v_1^{(2)}\\right)^2\\right] = m_2\\left[\\left(v_2^{(2)}\\right)^2 - \\left(v_2^{(1)}\\right)^2\\right] \\Rightarrow m_1\\left(v_1^{(1)} - v_1^{(2)}\\right)\\left(v_1^{(1)} + v_1^{(2)}\\right) = m_2\\left(v_2^{(2)} - v_2^{(1)}\\right)\\left(v_2^{(2)} + v_2^{(1)}\\right)$$\n",
    "откуда следует, что\n",
    "$$v_1^{(1)} + v_1^{(2)} = v_2^{(2)} + v_2^{(1)}$$\n",
    "Подставим скорость $v_2^{(2)}$ из последнего выражения в закон сохранения импульса:\n",
    "$$m_1v_1^{(1)} + m_2v_2^{(1)} = m_1v_1^{(2)} + m_2\\left(v_1^{(1)} + v_1^{(2)} - v_2^{(1)}\\right) \\Rightarrow v_1^{(2)} = 2\\frac{m_1v_1^{(1)} + m_2v_2^{(1)}}{m_1 + m_2} - v_1^{(1)} = 2V_c - v_1^{(1)}$$\n",
    "где $V_c$ - скорость центра масс. Аналогично для второй частицы\n",
    "$$v_2^{(2)} = 2V_c - v_2^{(1)}$$\n",
    "Отсюда видно, что скорость каждой частицы в системе центра масс меняет знак и остается постоянной по модулю:\n",
    "$$v^{(1,2)}_{1c} = v_{1} - V_{c},\\; v^{(1,2)}_{2c} = v_{2} - V_{c} \\Rightarrow v^{(2)}_{1c} = -v^{(1)}_{1c},\\;v^{(2)}_{2c} = -v^{(1)}_{2c}$$\n",
    "\n",
    "Если вторая частица до столкновения покоилась, $v^{(1)}_2=0$, то\n",
    "$$v^{(2)}_1 = v^{(1)}_1 \\frac{m_1-m_2}{m_1+m_2},\\;\\;v^{(2)}_{2} = \\frac{2m_1v^{(1)}_1}{m_1+m_2}$$\n",
    "\n",
    "Если при этом масса второй частицы очень велика (столкновение со стенкой),\n",
    "$$m_{2}\\rightarrow\\infty\\;\\Rightarrow\\; v^{(2)}_1\\rightarrow-v^{(1)}_1,\\; v^{(2)}_2\\rightarrow 0$$\n",
    "\n",
    "Если сталкиваются две одинаковые частицы, то частицы «обмениваются» скоростями:\n",
    "$$V_c = \\frac{1}{2}\\left(v^{(1)}_{1}+v^{(1)}_{2}\\right) \\Rightarrow v^{(2)}_1=v^{(1)}_2,\\;v^{(2)}_2=v^{(1)}_1$$"
   ]
  },
  {
   "cell_type": "markdown",
   "id": "c3ffaf5d",
   "metadata": {},
   "source": [
    "### Упругое рассеяние\n",
    "\n",
    "Пусть теперь векторы скоростей упруго сталкивающихся частиц не лежат на одной прямой. Запишем законы сохранения энергии и импульса в этом случае (обозначения величин до и после столкновения те же):\n",
    "$${\\bf p}_{1}^{(1)} + {\\bf p}_{2}^{(1)} = {\\bf p}_{1}^{(2)}+{\\bf p}_{2}^{(2)}$$\n",
    "$$\\dfrac{1}{2m_{1}}\\left(p_{1}^{(1)}\\right)^{2} + \\dfrac{1}{2m_{2}}\\left(p_{2}^{(1)}\\right)^{2} = \\dfrac{1}{2m_{1}}\\left(p_{1}^{(2)}\\right)^{2} + \\dfrac{1}{2m_{2}}\\left(p_{2}^{(2)}\\right)^{2}$$\n",
    "В системе центра масс суммарный импульс равен нулю\n",
    "$${\\bf p}_{1c}^{(1)} + {\\bf p}_{2c}^{(1)} = {\\bf p}_{1c}^{(2)}+{\\bf p}_{2c}^{(2)} = 0 \\Rightarrow {\\bf p}_{1c}^{(1)} = -{\\bf p}_{2c}^{(1)},\\;{\\bf p}_{1c}^{(2)} = -{\\bf p}_{2c}^{(2)}$$\n",
    "Тогда из закона сохранения энергии в системе центра масс следует, что импульсы обеих материальных точек в этой системе до и после столкновения равны по модулю, и, следовательно, скорость каждой точки по модулю не меняется:\n",
    "$$\\dfrac{1}{2m_{1}}\\left(p_{1c}^{(1)}\\right)^{2} + \\dfrac{1}{2m_{2}}\\left(p_{2c}^{(1)}\\right)^{2} = \\dfrac{1}{2m_{1}}\\left(p_{1c}^{(2)}\\right)^{2} + \\dfrac{1}{2m_{2}}\\left(p_{2c}^{(2)}\\right)^{2} \\Rightarrow p_{1c}^{(1)} = p_{1c}^{(2)}, \\; p_{2c}^{(1)} = p_{2c}^{(2)} \\Rightarrow v_{1c}^{(1)} = v_{1c}^{(2)}, \\; v_{2c}^{(1)} = v_{2c}^{(2)}.$$\n",
    "\n",
    "Теперь рассмотрим частный случай, когда одна частицы налетает на другу, неподвижную вторую в лабораторной системе отсчета, ${\\bf v}_{2}^{(1)} = 0$. Вторая частица при этом часто называется мишенью. Нарисуем векторную диаграмму скоростей, на которой изобразим скорость первой частицы в лабораторной системе отсчета и системе отчета центра масс. В случае, когда $m_1 < m_2$, скорость центра масс меньше скорости первой частицы в системе отсчета центра масс, и, как видно из диаграммы, она может отлететь на любой угол. В другом случае при $m_1 > m_2$ существует максимальный предельный угол отклонения, который определяется касательной к окружности с радиусом, равным скорости первой частицы в системе центра масс, проведенной из начала вектора скорости этой частицы в лабораторной системе отсчета (поскольку и до, и после столкновения ${\\bf v}_1={\\bf V}_c+{\\bf v}_{1c}$). Из диаграммы видно, что этот максимальный угол определяется соотношением $\\sin\\theta_{max}=m_{2}/m_{1}$.\n",
    "\n",
    "<figure>\n",
    "    <center>\n",
    "    <img src=\"./fig/lect06_fig05.png\" width=\"450\" align=\"center\"/>\n",
    "        <figcaption>Векторная диаграмма скоростей для частицы с массой $m_1$, упруго рассеивающейся на неподвижной частице с массой $m_2$. При $m_1 < m_2$ угол рассеяния может быть любой (слева). При $m_1 > m_2$ существует максимальный угол рассеяния (справа).</figcaption>\n",
    "    </center>\n",
    "</figure>\n",
    "\n",
    "При $m_{1}=m_{2}$ частицы всегда будут разлетаться под прямым углом (кроме ситуации движения вдоль одной прямой, описанной выше).\n",
    "<figure>\n",
    "    <center>\n",
    "    <img src=\"./fig/lect06_fig06.png\" width=\"350\" align=\"center\"/>\n",
    "        <figcaption>Векторная диаграмма скоростей для упругого столкновения одинаковых частиц, когда первая налетает на неподвижную вторую. В лабораторной системе отсчета частицы всегда будут разлетаться под прямым углом.</figcaption>\n",
    "    </center>\n",
    "</figure>"
   ]
  },
  {
   "cell_type": "markdown",
   "id": "cee33404",
   "metadata": {},
   "source": [
    "### Неупругие столкновения\n",
    "\n",
    "В качестве простейшего примера неупругого столкновения рассмотрим слипание двух столкнувшихся материальных точек. По закону сохранения импульса\n",
    "$$m_{1}v_{1} + m_{2}v_{2} = \\left(m_{1}+m_{2}\\right)u \\Rightarrow u= \\dfrac{m_{1}v_{1}+m_{2}v_{2}}{m_{1}+m_{2}}$$\n",
    "Вся система движется со скоростью центра масс. При этом часть начальной кинетической энергии перейдет в работу диссипативных сил, или пойдет на изменение структуры сталкивающихся частиц:\n",
    "$$\\Delta K = K_{1}+K_{2}-K = \\dfrac{1}{2}\\left[m_{1}v_{1}^{2}+m_{2}v_{2}^{2}-\\left(m_{1}+m_{2}\\right)u^{2}\\right] = \\dfrac{1}{2}\\mu\\left(v_{1}-v_{2}\\right)^{2}$$\n",
    "Здесь $\\mu={m_{1}m_{2}}/({m_{1}+m_{2}})$ – приведенная масса. С другой стороны, согласно теореме Кёнига, максимальная энергия, которая может перейти во внутреннюю, - эта кинетическая энергия в системе центра масс. Покажем, что это та же самая энергия:\n",
    "$$K_{c}=\\dfrac{1}{2}\\left(m_{1}v_{1c}^{2}+m_{2}v_{2c}^{2}\\right)=\\dfrac{1}{2}\\left[m_{1}\\left(v_{1}-V_{c}\\right)^{2}+m_{2}\\left(v_{2}-V_{c}\\right)^{2}\\right] = $$\n",
    "$$ = \\dfrac{1}{2}\\left[m_{1}v_{1}^{2}+m_{2}v_{2}^{2}+\\left(m_{1}+m_{2}\\right)V_{c}^{2}-2m_{1}v_{1}V_{c}-2m_{2}v_{2}V_{c}\\right]=\\dfrac{1}{2}\\left[m_{1}v_{1}^{2}+m_{2}v_{2}^{2}-\\left(m_{1}+m_{2}\\right)V_{c}^{2}\\right]=\\Delta K$$\n",
    "\n",
    "Выше был рассмотрен случай упругого столкновения некоторой частицы с неподвижной мишенью. При той же постановке задачи (эксперимента) может произойти и неупругое столкновение. Для осуществления превращений частиц может потребоваться некоторая минимальная внутренняя энергия. Тогда говорят, что у некоторой реакции существует порог. Порог реакции – такая энергия бомбардирующей частицы, налетающей на неподвижную частицу-мишень, начиная с которой начинает происходить реакция по заданному каналу.\n",
    "\n",
    "Рассмотрим превращение частиц $a_{1}+a_{2}\\rightarrow b_{1}+b_{2}+\\dots$, частица $a_{2}$ покоится в лабораторной системе отсчета. Внутреняя энергия частиц до столкновения $\\varepsilon_{a}$, после столкновения – $\\varepsilon_{b}$. Если учесть эту энергию явно, то можно записать закон сохранения энергии и для неупругого рассеяния:\n",
    "$$K_{1}+\\varepsilon_{a}=K_{2}+\\varepsilon_{b}$$\n",
    "По определению, энергия реакции $Q=\\varepsilon_{a}-\\varepsilon_{b}=K_{2}-K_{1}$. Если $Q>0$, реакция экзоэнергетическая (экзотермическая) – идет с выделением энергии, и $K_{1}$ может быть любой. Если $Q<0$, реакция эндоэнергетическая (эндотермическая) – идет с поглощением энергии, и для начала реакции необоходима некоторая минимальная $K_{1}$ – порог реакции:\n",
    "$$K_{1} = K_{2} - Q = K_{2} + \\left|Q\\right|$$\n",
    "При равенстве $K_{1}$ пороговой энергии, очевидно, в системе центра масс после реакции частицы покоятся:\n",
    "$$K_{1c,\\text{пор}}=\\left|Q\\right|$$"
   ]
  },
  {
   "cell_type": "code",
   "execution_count": null,
   "id": "dd069002",
   "metadata": {},
   "outputs": [],
   "source": []
  }
 ],
 "metadata": {
  "kernelspec": {
   "display_name": "Python 3",
   "language": "python",
   "name": "python3"
  },
  "language_info": {
   "codemirror_mode": {
    "name": "ipython",
    "version": 3
   },
   "file_extension": ".py",
   "mimetype": "text/x-python",
   "name": "python",
   "nbconvert_exporter": "python",
   "pygments_lexer": "ipython3",
   "version": "3.8.8"
  }
 },
 "nbformat": 4,
 "nbformat_minor": 5
}
