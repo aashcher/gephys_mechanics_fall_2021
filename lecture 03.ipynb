{
 "cells": [
  {
   "cell_type": "markdown",
   "id": "556b31ce",
   "metadata": {},
   "source": [
    "## Общая физика. Механика. Лекция 3. Динамика материальной точки I."
   ]
  },
  {
   "cell_type": "markdown",
   "id": "805437ac",
   "metadata": {},
   "source": [
    "*(c) 2021 Alexey Shcherbakov. These lectures are licensed under a Creative <a href=\"https://creativecommons.org/licenses/by/4.0/\">Commons Attribution License CC-BY 4.0</a>. All code contained herein is licensed under an <a href=\"https://opensource.org/licenses/MIT\">MIT license</a>. The lectures were generated from a <a href=\"https://justinbois.github.io/bootcamp/2017/lessons/l37_jupyter.ipynb\">Jupyter notebook</a>.*"
   ]
  },
  {
   "cell_type": "markdown",
   "id": "8e815697",
   "metadata": {},
   "source": [
    "### План лекции:\n",
    "\n",
    "* фундаментальные взаимодействия\n",
    "* принцип отностельности\n",
    "* импульс\n",
    "* законы Ньютона\n",
    "* центр масс\n",
    "* движение пары материальных точек"
   ]
  },
  {
   "cell_type": "markdown",
   "id": "bb5b3cfd",
   "metadata": {},
   "source": [
    "### Фундаментальные взаимодействия\n",
    "\n",
    "В рамках кинематики изучаются лишь закономерности движения. Причинами же, приводящими к изменению механического состояния, занимается динамика. В процессе изучения различных явлений ученые пришли к выводу о существовании в природе всего четырех типов взаимодействий.\n",
    "\n",
    "В современной физике принята полевая парадигма – взаимодействия обусловлены наличием соответвующих полей – физических объектов, существующих во всех областях пространства, меняющихся во времени, обладающих бесконечным числом степеней свободы, и описываемых некторыми динамическими уравнениями. На квантовом уровне взаимодействие посредством некоторого поля между частицами проявляется в форме обмена виртуальными частицами, являющимися переносчиками данного взаимодействия. Об этом мы будем говорить более подробно в разделах по квановой механике и атомной физике. Сейчас же перечислим упомянутые четыре взаимодействия.\n",
    "\n",
    "* Электромагнитное взаимодействие. Может принимать форму как притяжения, так и отталкивания за счет существования двух видов зарядов. Сила взаимодействия зарядов определяется законом Кулона. Эта сила проявляется и в микромире, и в макромире за счет бесконечного радиуса действия. Электромагнитные силы обуслвавливают, например, строение молекул, силы упругости и вязкости.\n",
    "\n",
    "* Гравитационное взаимодействие наряду с электромагнитным формирует мир, который мы видим вокруг себя. В отличие от электрических зарядов гравитационные заряды существуют только одного знака, так что гравитационные силы прводят только к притяжению тел. Гравитационное взаимодействие приводит к такому сжатию, что в звездах начинаются термоядерные реакции. Оно же формирует крупномасштабную структуру Вселенной.\n",
    "\n",
    "* Сильное взаимодействие - короткодействующее, оно связывает кварки в нуклонах. Радиус действия сил порядка $10^{-13}$ см. При увеличении расстояния между кварками сила их притяжения растет, а при достаточном сближении взаимодействие ослабевает. Сильное взаимодействие обеспечивает процессы термоядерного синтеза, деление тяжелых ядер.\n",
    "\n",
    "* Слабое взаимодействие также короткодействующее, характерный радиус действия сил - порядка $10^{-16}$ см. Это взаимодействие, как и сильное, обеспечивает термоядерный синтез, а такде отвечает за все процессы, в которых участвуют нейтрино (например, $\\beta$-распад). Нейтринные потоки от Солнца практически ни с чем не взаимодействуют. Через наше тело ежесекундно проходят миллионы нейтрино, но за всю жизнь лишь единицы испытывают столкновения с атомами тела.\n",
    "\n",
    "Если принять характерную силу сильного взаимодействия нуклонов в ядре за единицу, то электромагнитная сила будет порядка $10^{-2}$, силы слабого взаимодействия - $10^{-6}$, гравитационного - $10^{-38}$. Оказывается, что соотношение сил зависит от энергии частиц (или характерных расстояний), участвующих во взаимодействиях. Такая зависимость открывает потенциальную возможность единого описания всех взамодействий, являющуюся одной из глобальных целей теоретической физики. Так, электромагнитное и слабое взаимодействия сливаются в единое электрослабое при энергиях $\\sim10^{2}$ Гэв. Теория электромагнитного, сильного и слабого взаимодействий называется стандартной моделью. На современных ускорителях достигается энергия $\\sim10^{3}$ Гэв. Стандартная модель предсказывает, что  электрослабое и сильное взамодействия становятся едиными при энергиях $\\sim10^{15}$ Гэв."
   ]
  },
  {
   "cell_type": "markdown",
   "id": "5bb71022",
   "metadata": {},
   "source": [
    "### Принцип относительности\n",
    "\n",
    "В кинематике все системы отсчета равноправны. В динамике различают принципиально важный класс – инерциальные системы отчета – системы, в которых все свободные тела движутся равномерно и прямолинейно. Свободные тела – тела, на которые не действуют силы. Сила – мера интенсивности взаимодействия тел, которая проявляется в изменении их количества движения. То есть, для поддержания движения сила не требуется, она нужна для изменения состояния движения. Первый закон Ньютона постулирует сущестовование инерциальных систем отсчета: тело, не подверженное внешним воздействиям (или когда внешние воздействия скомпенсированы), либо находится в покое, либо движется равномерно и прямолинейно. Такое движение называется свободным движением, или движением по инерции.\n",
    "\n",
    "Если существует одна инерциальная система отсчета, то их существует и бесконечное множество, и закон преобразования между ними в рамках классической механики называется преобразованием Галилея. Для примера рассмотрим инерциальную систему отсчета и другую систему, движущуюся относительно первой со скоростью $\\bf V$. Пусть радиус-вектор некоторой материальной точки в исходной система отсчета равен $\\bf r$, в новой системе отсчета – ${\\bf r}'$, а радиус-вектор начала координат новой системы отчета относительно начальной равен ${\\bf R} = {\\bf R}_{0} + {\\bf V}t$, где ${\\bf R}_{0}=const$, ${\\bf V}=const$. Тогда по правилу сложения векторов \n",
    "$${\\bf r}={\\bf r}'+{\\bf R}_{0}+{\\bf V}t$$\n",
    "$$\\dfrac{d{\\bf r}}{dt}=\\dfrac{d{\\bf r}}{dt}+{\\bf V}\\Rightarrow{\\bf v}={\\bf v}'+{\\bf V}$$\n",
    "$${\\bf a}=\\dfrac{d{\\bf v}}{dt}=\\dfrac{d{\\bf v}'}{dt}={\\bf a}'$$\n",
    "Здесь также предполагалось, что $t=t'$.\n",
    "\n",
    "<figure>\n",
    "    <center>\n",
    "    <img src=\"./fig/lect03_fig01.png\" width=\"300\" align=\"center\"/>\n",
    "        <figcaption>Иллюстрация преобразования Галилея</figcaption>\n",
    "    </center>\n",
    "</figure>\n",
    "\n",
    "Величины, которые не изменяются при преобразовании Галилея, называются *инвариантными* относительно этого преобразования. Например, не меняются промежутки времени, $\\Delta t = \\Delta t'$ и длины:\n",
    "$$l=\\sqrt{(x_1-x_2)^2+(y_1-y_2)^2} = $$\n",
    "$$=\\sqrt{(x_1'+X_0+V_xt-(x_2'+X_0+V_xt))^2 + (y_1'+Y_0+V_yt-(y_2'+Y_0+V_yt))^2 } = $$\n",
    "$$= \\sqrt{(x_1'-x_2')^2+(y_1'-y_2')^2} = l'$$\n",
    "\n",
    "Изучение законов механики привели Галилея к формулировке принципа относительности: законы механики одинаковы во всех инерциальных системах отсчета. Позднее, уже в 20-м веке, Эйнштейн обобщил этот принцип: законы физики, по которым происходят изменения физических систем, одинаковы во всех инерциальных системах отсчета."
   ]
  },
  {
   "cell_type": "markdown",
   "id": "56a0bd8d",
   "metadata": {},
   "source": [
    "### Импульс\n",
    "\n",
    "Рассмотрим модельную изолированную систему из двух материальных точек. Пусть в результате взаимодействия между ними их скорости изменились. На основании опытных фактов было установлено, что\n",
    "$$m_{1}\\Delta{\\bf v}_{1}=-m_{2}\\Delta{\\bf v}_{2}$$\n",
    "Оказывается, что коэффициенты в этой формуле не зависят от времени воздействия и величины изменения скорости, а характеризуют сами взаимодействующие объекты. Они называются инерционными массами тел, а отношение масс оказывается равно отношению приращений скоростей. Поэтому массы можно измерять относительно друг друга, или относительно эталона.\n",
    "\n",
    "Перепишем предыдующую формулу через начальную и конечную скорости первого и второго тела:\n",
    "$$m_{1}{\\bf v}_{1}^{\\text{нач}}+m_{2}{\\bf v}_{2}^{\\text{нач}}=m_{1}{\\bf v}_{1}^{\\text{кон}}+m_{2}{\\bf v}_{2}^{\\text{кон}}$$\n",
    "Отсюда можно видеть, что в процессе взаимодействия сохраняется величина произведения массы на скорость – импульс \n",
    "$${\\bf p}=m{\\bf v}$$\n",
    "То есть, суммарный импульс материальных точек не изменился: $\\sum{\\bf p}=const$. Это правило можно обобщить на любое другое число материальных точек, или твердых тел, так что получается закон сохранения импульса: суммарный импульс замкнутой системы материальных точек постоянен.\n",
    "\n",
    "Изначально закон сохранения импульса появился как опытный факт. В последствие ученые поняли, что в основе закона сохранения импульса лежит однородность пространства, т. е. одинаковость свойств пространства во всех точках (симметрия по отношению к сдвигу начала координат). Это означает, что параллельный перенос замкнутой системы из одного места пространства в другое, без изменения взаимного расположения и скоростей частиц, не изменяет механические свойства системы.\n",
    "\n",
    "Запишем закон сохранения импульса в каких-либо двух инерциальных системах отсчета для случая, когда две материальные точки сталкиваются и слипаются:\n",
    "$$\n",
    "\\begin{array}{c}\n",
    "m_{1}{\\bf v}_{1}+m_{2}{\\bf v}_{2}=m{\\bf v}\\\\\n",
    "m_{1}{\\bf v}_{1}'+m_{2}{\\bf v}_{2}'=m{\\bf v}'\n",
    "\\end{array}\n",
    "$$\n",
    "Согласно закону преобразования Галилея,\n",
    "$${\\bf v}_{1}-{\\bf v}_{1}'={\\bf v}_{2}-{\\bf v}_{2}'={\\bf v}-{\\bf v}'={\\bf V}.$$\n",
    "Отсюда\n",
    "$$\\left(m_{1}+m_{2}\\right){\\bf V}=m{\\bf V}\\Rightarrow m_{1}+m_{2}=m.$$\n",
    "Это равенство выражает собой закон аддитивности массы в классической механике: сумма масс веществ в замкнутой системе до взаимодействия равна сумме масс веществ после взаимодействия."
   ]
  },
  {
   "cell_type": "markdown",
   "id": "1e9c77a0",
   "metadata": {},
   "source": [
    "### Законы Ньютона\n",
    "\n",
    "Если необходимо учитвать воздействия, приводащие к изменению импульса, мы приходим к второму законе Ньютона: ускорение, приобретаемое телом прямо пропорционально приложенной силе и сонаправлено с линией действия этой силы. При этом под силой подразумевается причина изменения импульса. В нерелятивистском случае\n",
    "$$\\dfrac{d^{2}{\\bf r}}{dt^{2}}=\\dfrac{1}{m}{\\bf F}$$\n",
    "Также этот закон можно переписать через введенное понятие импульса:\n",
    "$$\\dfrac{d{\\bf p}}{dt}={\\bf F}$$\n",
    "в инерциальной системе отсчета. Отсюда видно, что в рамках классической механики любые движения тел описываются дифференциальными уравнениями второго порядка (то есть уравнениями, максимальных порядок производных в которых – второй), и производные высших порядков несущественны.\n",
    "\n",
    "Итак, сила – мера интенсивности взамодействия тел, приводящая к изменению импульса. В классической механике сила подчиняется принципу суперпозиции (благодаря линейности уравнений движения):\n",
    "$${\\bf F}_{total}= \\sum_{i} {\\bf F}_{i}$$\n",
    "Также ввиду инвариантности массы и ускорения, сила тоже инвариантна относительно преобразования Галилея.\n",
    "\n",
    "Изменение импульса в течение некоторого промежутка времени можно выразить через интеграл:\n",
    "$${\\bf p}_{2}-{\\bf p}_{1}=\\int_{t_{1}}^{t_{2}}{\\bf F}\\left(t\\right)dt$$\n",
    "Величина ${\\bf F}\\left(t\\right)dt$ называется импульсом силы за время $dt$. Последнее равенство показывает, что изменение импульса системы материальных точек равно импульсу суммы всех внешних сил. Кроме того, отсюда следует, что изменение количества движения зависит не только сил, но и от времени действия этих сил."
   ]
  },
  {
   "cell_type": "code",
   "execution_count": 1,
   "id": "e5b5e26c",
   "metadata": {},
   "outputs": [
    {
     "data": {
      "image/jpeg": "[encoded data removed]",
      "text/html": [
       "\n",
       "        <iframe\n",
       "            width=\"800\"\n",
       "            height=\"300\"\n",
       "            src=\"https://www.youtube.com/embed/111vVnQUvXI\"\n",
       "            frameborder=\"0\"\n",
       "            allowfullscreen\n",
       "        ></iframe>\n",
       "        "
      ],
      "text/plain": [
       "<IPython.lib.display.YouTubeVideo at 0x7fd790432700>"
      ]
     },
     "execution_count": 1,
     "metadata": {},
     "output_type": "execute_result"
    }
   ],
   "source": [
    "# опыт с ломанием палочки на бумажных кольцах:\n",
    "from IPython.display import YouTubeVideo\n",
    "YouTubeVideo('111vVnQUvXI', width=800, height=300)"
   ]
  },
  {
   "cell_type": "markdown",
   "id": "bffbe31b",
   "metadata": {},
   "source": [
    "Вернемся к примеру с замкнутой системой из двух взаимодействующих материальных точек. Согласно закону сохранения импульса, их суммарный импульс не меняется во времени:\n",
    "$${\\bf p}_{1}+{\\bf p}_{2}=const$$\n",
    "Продифференцируем это равенство\n",
    "$$\\dfrac{d{\\bf p}_{1}}{dt}+\\dfrac{d{\\bf p}_{2}}{dt}=0\\Rightarrow{\\bf F}_{21}=-{\\bf F}_{12}$$\n",
    "Таким образом, получается третий закон Ньютона: силы взаимодействия двух материальных точек равны по модулю, противоположно направлены и действуют вдоль прямой, соединяющей эти точки. Для всякого действия есть равное по величине и противоположное по направлению противодействие. Этот закон справедлив в рамках классической механики, но может нарушаться в микромире при наличии сложных эффективных взаимодействий.\n",
    "\n",
    "Для системы материальных точек импульс каждой точки меняется под действием сил со стороны других точек и результирующей внешней силы ${\\bf F}_{ext}$:\n",
    "$$\\dfrac{d{\\bf p}_{i}}{dt}=\\sum_{k\\neq i}{\\bf F}_{ki}+{\\bf F}_{ext,i}$$\n",
    "Сложим все эти равнества и учтем, что при этом согласно третьему закону Ньютона все силы взаимодействия сократятся, поскольку войдут в правую часть итогового уравнения по два раза:\n",
    "$$\\dfrac{d{\\bf p}}{dt}=\\sum_{i}\\dfrac{d{\\bf p}_i}{dt}=\\sum_{i}\\left({\\bf F}_{ext,i} + \\sum_{k\\neq i}{\\bf F}_{ki}\\right) = \\sum_{i}{\\bf F}_{ext,i}$$\n",
    "Здесь все силы взаимодействия материальных точек друг с другом сократились в силу третьего закона Ньютона. Таким образом, суммарный импульс системы материальных точек меняется только под действием внешних по отношению к этой системе сил.\n",
    "\n",
    "<figure>\n",
    "    <center>\n",
    "    <img src=\"./fig/lect03_fig02.png\" width=\"300\" align=\"center\"/>\n",
    "        <figcaption>Система материальных точек, взаимодействующих друг с другом, на которую действуют внешние силы</figcaption>\n",
    "    </center>\n",
    "</figure>"
   ]
  },
  {
   "cell_type": "markdown",
   "id": "c3ffaf5d",
   "metadata": {},
   "source": [
    "### Центр масс\n",
    "\n",
    "Важным понятием в задачах динамики является центр масс. По определению, центр масс системы материальных точек - это точка в пространстве, радиус-вектор которой\n",
    "$${\\bf R}_{cm}=\\dfrac{\\sum_{i=1}^{N}m_{i}{\\bf r}_{i}}{\\sum_{i=1}^{N}m_{i}}$$\n",
    "где $m=\\sum_i m_{i}$ - суммарная масса системы. Умножим обе части уравнения на $m$ и продифференцируем по времени. Вводя скорость центра масс ${\\bf V}_c = d{\\bf R}_c/dt$, получаем,\n",
    "$$m{\\bf V}_{cm}=\\sum_{i}m_{i}{\\bf v}_{i}=\\sum_{i}{\\bf p}_{i}\\Rightarrow m\\dfrac{d{\\bf V}_{cm}}{dt}=\\sum_{i}\\dfrac{d{\\bf p}_{i}}{dt}={\\bf F}_{ext}$$\n",
    "Отсюда получается закон движения центра масс: центр масс системы движется как материальная точка с массой, равной суммарной массе системы, под действием силы, равной сумме всех внешних сил. Суммарный импульс системы материальных точек равен произведению массы системы на скорость центра масс. Если начало системы отсчета поместить в центр масс, то суммарный импульс системы материальных точек будет равен нулю.\n",
    "\n",
    "Проявление теоремы о движении центра масс можно видеть в повседневной жизни, когда спортсмены - велосипедисты или лыжники - на финише продвигают свой спортивный снаряд, велосипед или лыжу, вперед за счет обратного движения корпуса. Скорость центра масс спортсмена и снаряда при этом никак не меняется.\n",
    "\n",
    "<figure>\n",
    "    <center>\n",
    "        <img src=\"https://static.vl.ru/news/1561160723767_default\" style=\"float: left; height: 10em; margin-right: 1%; margin-bottom: 0.5em;\"><img src=\"https://cdn.prognozist.ru/posts/2019-08/thumbs/1566926160_fin3232.jpg\" style=\"float: left; height: 10em; margin-right: 1%; margin-bottom: 0.5em;\">\n",
    "    </center>\n",
    "</figure>"
   ]
  },
  {
   "cell_type": "code",
   "execution_count": 1,
   "id": "3d7dfa27",
   "metadata": {},
   "outputs": [
    {
     "data": {
      "image/jpeg": "[encoded data removed]",
      "text/html": [
       "\n",
       "        <iframe\n",
       "            width=\"800\"\n",
       "            height=\"300\"\n",
       "            src=\"https://www.youtube.com/embed/NHo-ICzb-YQ\"\n",
       "            frameborder=\"0\"\n",
       "            allowfullscreen\n",
       "        ></iframe>\n",
       "        "
      ],
      "text/plain": [
       "<IPython.lib.display.YouTubeVideo at 0x7f83817864c0>"
      ]
     },
     "execution_count": 1,
     "metadata": {},
     "output_type": "execute_result"
    }
   ],
   "source": [
    "# движение центра масс:\n",
    "from IPython.display import YouTubeVideo\n",
    "YouTubeVideo('NHo-ICzb-YQ', width=800, height=300)"
   ]
  },
  {
   "cell_type": "markdown",
   "id": "a9b0a00c",
   "metadata": {},
   "source": [
    "### Движение пары материальных точек\n",
    "\n",
    "В частном случае движения изолированной пары материальных точек систему их уравнений движения\n",
    "$$m_1\\frac{d^2{\\bf r}_1}{dt^2} = {\\bf F}_{12}$$\n",
    "$$m_2\\frac{d^2{\\bf r}_2}{dt^2} = {\\bf F}_{21} = -{\\bf F}_{12}$$\n",
    "можно свести у одному уравнению. Перенесем массы в правые части и вычтем из первого уравнения второе:\n",
    "$$\\frac{d^2{\\bf r}_1}{dt^2} - \\frac{d^2{\\bf r}_2}{dt^2} = \\frac{d^2}{dt^2}\\left({\\bf r}_1-{\\bf r}_2\\right) = \\left( \\frac{1}{m_1} + \\frac{1}{m_2} \\right){\\bf F}_{12} = \\frac{1}{\\mu}{\\bf F}_{12}$$\n",
    "Это уравнение на радиус-вектор первой точки относительно второй в предположении, что вторая точка неподвижна. Величина $\\mu$ называется приведенной массой. Такой подход будет использован далее при анализе движения двух тел при их гравитационном взаимодействии.\n",
    "\n",
    "<figure>\n",
    "    <center>\n",
    "    <img src=\"./fig/lect03_fig03.png\" width=\"300\" align=\"center\"/>\n",
    "        <figcaption>Движение пары материальных точек</figcaption>\n",
    "    </center>\n",
    "</figure>"
   ]
  },
  {
   "cell_type": "code",
   "execution_count": null,
   "id": "719a9587",
   "metadata": {},
   "outputs": [],
   "source": []
  }
 ],
 "metadata": {
  "kernelspec": {
   "display_name": "Python 3",
   "language": "python",
   "name": "python3"
  },
  "language_info": {
   "codemirror_mode": {
    "name": "ipython",
    "version": 3
   },
   "file_extension": ".py",
   "mimetype": "text/x-python",
   "name": "python",
   "nbconvert_exporter": "python",
   "pygments_lexer": "ipython3",
   "version": "3.8.8"
  }
 },
 "nbformat": 4,
 "nbformat_minor": 5
}
