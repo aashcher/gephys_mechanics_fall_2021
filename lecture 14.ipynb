{
 "cells": [
  {
   "cell_type": "markdown",
   "id": "556b31ce",
   "metadata": {},
   "source": [
    "## Общая физика. Механика. Лекция 14. Релятивистская кинематика II."
   ]
  },
  {
   "cell_type": "markdown",
   "id": "49adf904",
   "metadata": {},
   "source": [
    "*(c) 2021 Alexey Shcherbakov. These lectures are licensed under a Creative <a href=\"https://creativecommons.org/licenses/by/4.0/\">Commons Attribution License CC-BY 4.0</a>. All code contained herein is licensed under an <a href=\"https://opensource.org/licenses/MIT\">MIT license</a>. The lectures were generated from a <a href=\"https://justinbois.github.io/bootcamp/2017/lessons/l37_jupyter.ipynb\">Jupyter notebook</a>.*"
   ]
  },
  {
   "cell_type": "markdown",
   "id": "8e815697",
   "metadata": {},
   "source": [
    "### План лекции:\n",
    "\n",
    "* фотография быстро движщихся объектов\n",
    "* парадокс шеста и сарая\n",
    "* преобразование скоростей\n",
    "* аберрация\n",
    "* релятивистский эффект Доплера\n",
    "* пространство Минковского. диаграммы Минковского\n",
    "* парадокс близнецов"
   ]
  },
  {
   "cell_type": "markdown",
   "id": "57cc1b09",
   "metadata": {},
   "source": [
    "### Фотография быстро движущихся объектов\n",
    "\n",
    "Несмотря на то, что измерение длины быстро движущихся объектов дает результат, меньший по сравнению с длиной в той ИСО, где объект покоится, если попробовать сфотографировать трехмерный объект, он не будет сжат. Это происходит потому, что процессы фотографирования и измерения длины отличаются. Упрощенно, при фотографировании фиксируются фотоны (кванты света, движущиеся со скоростью света), пришедшие на фотопластинку (плёнку, ПЗС-матрицу) от разных точек объекта в один и тот же момент времени. Для простоты рассмотрим летящий параллельно фотопластинке куб со стороной $a$. Фотография нижней грани соответствует процессу измерения ее длины, так что на пластинке она будет иметь длину $a/\\gamma$. Но дополнительно в тот же момент времени на пластинку попадут фотоны, отраженные или испущенные от задней боковой грани, причем размер пятна этих фотонов будет $\\beta a$ (см. рисунок). Таким образом, длина всего изображения $a/\\gamma + \\beta a$, куб будет изображен как бы повернутым на угол $\\varphi$, такой, что $\\sin\\varphi=\\beta$ (поскольку $\\gamma^2 + \\beta^2 = 1$). Чтобы обобщить этот результат, можно любой объект представить разбитым на малые кубические объемы, поэтому и произвольный объект будет казаться повернутым на угол $\\varphi$. В частности, форма шара искажаться не будет.\n",
    "\n",
    "<figure>\n",
    "    <center>\n",
    "    <img src=\"./fig/lect14_fig01.png\" width=\"350\" align=\"center\"/>\n",
    "        <figcaption>Иллюстрация процесса фотосъемки быстро движущегося объекта.</figcaption>\n",
    "    </center>\n",
    "</figure>"
   ]
  },
  {
   "cell_type": "markdown",
   "id": "9ca16842",
   "metadata": {},
   "source": [
    "### Парадокс шеста и сарая\n",
    "\n",
    "Поскольку релятивистская теория не соответствует нашему повседневному опыту, некоторые ее следствия оказываются контринтуитивными, и вследствие этого могут быть названы парадоксами. Иногда также парадоксами называют следствия, полученные с ошибками в логических рассуждениях, приводящие к кажущейся противоречивости теории, - например, парадокс близнецов, рассмотренный ниже. Одним из самых известных парадоксов является парадокс шеста и сарая (его еще называют парадоксом карандаша и пенала, но суть от этого не меняется).\n",
    "\n",
    "Рассмотрим шест длины $l_{0}$, пролетающий со скоростью $v$ мимо сарая длины $L<l_{0}$. Здесь длины измерены в системах отсчета, где каждый из объектов покоится. Известно, что измерение длины шеста в системе отсчета сарая дает результат $l=l_{0}\\sqrt{1-v^{2}/c^{2}}$. Пусть $l=L$. Влезет ли шест в сарай, если попытаться закрыть шест в сарае? В системе отсчета, где шест движется, а сарай покоится, закрытие дверец сарая происходит одновременно, и их действительно можно закрыть на одно мгновение. Выясним, как такое может случиться с точки зрения системы отсчета шеста. Выделим четыре события и рассмотрим их пространственно-временные координаты $\\left(ct,x\\right)$ в системе сарая. \n",
    "* cобытие 1: передний конец шеста влетает в сарай: $\\left(ct_1,x_1\\right) = \\left(0,0\\right)$;\n",
    "* событие 2: задний конец шеста влетает в сарай: $\\left(ct_2,x_2\\right) = \\left(l_{0}\\dfrac{c}{v}\\sqrt{1-v^{2}/c^{2}},0\\right)=\\left(L\\dfrac{c}{v},0\\right)$;\n",
    "* событме 3: передний конец шеста вылетает из сарая: $\\left(ct_3,x_3\\right) = \\left(L\\dfrac{c}{v},L\\right)$;\n",
    "* событие 4: задний конец шеста вылетает из сарая $\\left(ct_4,x_4\\right) = \\left(L\\dfrac{c}{v}+l_{0}\\dfrac{c}{v}\\sqrt{1-v^{2}/c^{2}},L\\right)=\\left(2L\\dfrac{c}{v},L\\right)$.\n",
    "\n",
    "Если $l_{0}\\sqrt{1-v^{2}/c^{2}}\\leq L$, эти события происходят последовательно в системе отсчета сарая, 1-2-3-4. Согласно преобразованиям Лоренца, эти события в системе движущегося шеста имеют координаты\n",
    "* $\\left(ct_1',x_1'\\right) = \\left(0,0\\right)$\n",
    "* $\\left(ct_2',x_2'\\right) = \\left(\\gamma\\dfrac{c}{v}L,-\\gamma L\\right)=\\left(\\dfrac{c}{v}l_{0},-l_{0}\\right)$\n",
    "* $\\left(ct_3',x_3'\\right) = \\left(L\\dfrac{c}{v}\\sqrt{1-v^{2}/c^{2}},0\\right)=\\left(\\left(1-v^{2}/c^{2}\\right)\\dfrac{c}{v}l_{0},0\\right)$,\n",
    "* $\\left(ct_4',x_4'\\right) = \\left(2\\gamma L\\dfrac{c}{v}\\left(1-\\dfrac{1}{2}v^{2}/c^{2}\\right),-l_{0}\\right)$\n",
    "\n",
    "Сравнивая вторую и третью точки, имея в виду, что $\\dfrac{c}{v}l_{0}>\\left(1-v^{2}/c^{2}\\right)\\dfrac{c}{v}l_{0}$, получаем, что в системе шеста сначала происходит вылет переднего конца из сарая, а затем влет заднего конца, то есть последовательность событий 1-3-2-4. В это и состоит разрешение \"парадокса\": закрытие дверец не является одновременным в системе отсчета шеста."
   ]
  },
  {
   "cell_type": "markdown",
   "id": "5c0af0f3",
   "metadata": {},
   "source": [
    "### Преобразование скорости\n",
    "\n",
    "Из постулатов Эйнштейна следует, что классическое преобразование скоростей в форме $v_x=v_x'+V$ неприменимо в релятивисткой механике. Чтобы получить обобщение классического выражения, можно воспользоваться преобразованием Лоренца:\n",
    "$$\\begin{array} .\\Delta x' = \\gamma(\\Delta x-\\beta c\\Delta t) \\\\ \\Delta t' = \\gamma(\\Delta t-(\\beta/c) \\Delta x)\\end{array} \\Rightarrow v_x'=\\lim_{\\Delta t'\\rightarrow0} \\dfrac{\\Delta x'}{\\Delta t'} = \\lim_{\\Delta t\\rightarrow0} \\dfrac{\\Delta x-\\beta c\\Delta t}{\\Delta t-(\\beta/c) \\Delta x} =$$\n",
    "$$= \\lim_{\\Delta t\\rightarrow0} \\dfrac{(\\Delta x/\\Delta t)-\\beta c}{1-(\\beta/c) (\\Delta x/\\Delta t)} = \\dfrac{v_x-V}{1-v_xV/c^2}$$\n",
    "Также можно видеть, что изменится не только скорость в направлении относительного движения систем отсчета (вдоль оси $X$), но и компонента скорости вдоль перпендикулярного направления:\n",
    "$$v_y'=\\lim_{\\Delta t'\\rightarrow0} \\dfrac{\\Delta y'}{\\Delta t'} = \\lim_{\\Delta t\\rightarrow0} \\frac{1}{\\gamma} \\dfrac{\\Delta y}{\\Delta t-(\\beta/c) \\Delta x} =$$\n",
    "$$= \\lim_{\\Delta t\\rightarrow0} \\frac{1}{\\gamma} \\dfrac{(\\Delta y/\\Delta t)}{1-(\\beta/c) (\\Delta x/\\Delta t)} = \\dfrac{v_y\\sqrt{1-V^2/c^2}}{1-v_xV/c^2}$$\n",
    "Если подставить в закон преобразования скорости $v=c$, то и в любой другой ИСО получим $v'=c$.\n",
    "\n",
    "В качестве примера рассмотрим упругое соударение шарика, движущегося со скоростью $v_0$ со стенкой, которая движется навстречу ему со скоростью $V$. Классическая механика приводит к следующей скорости отскока шарика: $v_{кл} = -v_0-2V$. Поэтому, если, например, $v_0 = V = c/3$, получается результат, противоречащий теории относительности, где со скоростью света может двигаться только безмассовая частица (это будет обсуждаться далее). Воспользуемся релятивстским преобразованием скоростей. Скорость шарика в системе отсчета стенки, которая движется в отрицательном направлении оси $X$:\n",
    "$$v_{0}'=\\dfrac{v_{0}+V}{1+v_{0}V/c^{2}}$$\n",
    "По закону сохранения импульса после соударения в этой ИСО скорость шарика меняет знак: $v'=-v_0'$. Перейдем обратно в исходную систему отсчета:\n",
    "$$v=\\dfrac{-v'-V}{1+v'V/c^{2}}=-\\dfrac{v_{0}+V+V\\left(1+v_{0}\\dfrac{V}{c^{2}}\\right)}{1+v_{0}V/c^{2}+\\left(v_{0}+V\\right)\\dfrac{V}{c^{2}}}=-\\dfrac{2V+v_{0}\\left(1+\\dfrac{V^{2}}{c^{2}}\\right)}{1+\\left(2v_{0}+V\\right)\\dfrac{V}{c^{2}}}$$\n",
    "Подставляя $v_0 = V = c/3$, получаем корректный результат $v=-7c/9<c$."
   ]
  },
  {
   "cell_type": "markdown",
   "id": "6e54aa7c",
   "metadata": {},
   "source": [
    "### Аберрация света\n",
    "\n",
    "Аберрацией называется изменение направления фронта плоской волны при переходе от одной системы отсчета к другой. Пока мы не рассматривали волны, поэтому будем говорить об изменении направления распространения фотонов - квантов света, движущихся со скоростью света, - при изменении системы отсчета, в которой эти фотоны наблюдаются. Аберрация была открыта в 1727 году английским астрономом Джейсоном Брэдли. Он заметил, что звезды в течение года описывают на небе небольшие эллипсы. Оказалось, что этот эффект связан с орбитальным движением Земли. Если в системе отсчета Солнца наблюдаемый угол на звезду относительно направления скорости Земли (ось $X$) равен $\\varphi$, то с Земли этот угол изменится и будет равен $\\varphi'$. Спроецируем скорость фотонов на оси $X$ и $X$' воспользуемся формулой преобразования скоростей:\n",
    "$$\\begin{array}. v_{x}=-c\\cos\\varphi \\\\ v_{x}'=-c\\cos\\varphi'=\\dfrac{-c\\cos\\varphi-V}{1+c\\cos\\varphi V/c^{2}} \\end{array} \\Rightarrow \\cos\\varphi'=\\dfrac{\\cos\\varphi+\\dfrac{V}{c}}{1+\\dfrac{V}{c}\\cos\\varphi}$$\n",
    "\n",
    "<figure>\n",
    "    <center>\n",
    "    <img src=\"./fig/lect14_fig02.png\" width=\"350\" align=\"center\"/>\n",
    "        <figcaption>Иллюстрация эффекта аберрации света.</figcaption>\n",
    "    </center>\n",
    "</figure>"
   ]
  },
  {
   "cell_type": "code",
   "execution_count": 12,
   "id": "8388e463",
   "metadata": {},
   "outputs": [
    {
     "data": {
      "image/png": "[encoded data removed]",
      "text/plain": [
       "<Figure size 432x288 with 1 Axes>"
      ]
     },
     "metadata": {
      "needs_background": "light"
     },
     "output_type": "display_data"
    }
   ],
   "source": [
    "# построим зависимость \\phi' от \\phi для заданного отношения \\beta\n",
    "#  скорости системы отсчета наблюдателя к скорости света (попробуйте подставить разные \\beta от 0.1 до 0.99):\n",
    "import matplotlib.pyplot as plt\n",
    "import numpy as np\n",
    "\n",
    "beta = 0.5\n",
    "phi = np.linspace(0,180,181)\n",
    "phiv = (180/np.pi) * np.arccos( \\\n",
    "    np.divide(np.cos(phi*(math.pi/180)) + beta, \\\n",
    "    1+beta*np.cos(phi*(math.pi/180))) )\n",
    "\n",
    "fig = plt.figure()\n",
    "plt.plot(phi,phiv, 'r')\n",
    "plt.xlabel(\"$\\phi$\")\n",
    "plt.ylabel(\"$\\phi'$\")\n",
    "plt.show()"
   ]
  },
  {
   "cell_type": "markdown",
   "id": "bd615aff",
   "metadata": {},
   "source": [
    "### Релятивистский эффект Доплера\n",
    "\n",
    "Ввиду того, что время течет по-разному в разных системах отсчета, необходимо сделать поправку в формулу эффекта Доплера, полученную ранее. Сначала рассмотрим так называемый продольный эффект, когда источник периодической последовательности световых импульсов и приемник движутся вдоль соединяющей их прямой. В случае их сближения классическая формула задает следующее преобразование периода:\n",
    "$$T = \\left(1-\\dfrac{v}{c}\\right)T_{1}$$\n",
    "где $T$ - принимаемый период, а $T_1$ - период сигналов источника в системе отсчета приемника. Если перейти в систему отсчета источника, в которой период испускаемых сигналов равен $T_0$ (они измеряются по собственному времени приемника), то $T_1 = \\gamma T_0$ и\n",
    "$$T = T_{0}\\dfrac{1-v/c}{\\sqrt{1-v^{2}/c^{2}}}=T_{0}\\sqrt{\\dfrac{1-v/c}{1+v/c}}$$\n",
    "\n",
    "Аналогично, можно видеть, что в релятивистском случае принимаемый период будет изменяться даже, если источник будет двигаться перпендикулярно направлению на приемник. Этот эффект называется поперпчным эффектом Доплера, и в классическом случае не наблюдается. Изменение периода сигналов составит:\n",
    "$$T=\\gamma T_{0}$$\n",
    "Если же источник движется под некоторым углом $\\varphi$ к направлению на приемник в системе отсчета приемника, то изменения периода и частоты составят:\n",
    "$$T = \\left(1-\\dfrac{v}{c}\\cos\\varphi\\right)T_{1} = T_{0}\\dfrac{1-v\\cos\\varphi/c}{\\sqrt{1-v^{2}/c^{2}}}\\Rightarrow\\nu=\\nu_{0}\\dfrac{\\sqrt{1-v^{2}/c^{2}}}{1-\\dfrac{v}{c}\\cos\\varphi}$$"
   ]
  },
  {
   "cell_type": "code",
   "execution_count": 1,
   "id": "7f47ca72",
   "metadata": {},
   "outputs": [
    {
     "data": {
      "image/png": "[encoded data removed]",
      "text/plain": [
       "<Figure size 432x288 with 1 Axes>"
      ]
     },
     "metadata": {
      "needs_background": "light"
     },
     "output_type": "display_data"
    }
   ],
   "source": [
    "# построим зависимость относительного изменения частоты для заданного угла \\varphi от отношения \\beta\n",
    "#  скорости системы отсчета наблюдателя к скорости света (попробуйте подставить разные углы и найти\n",
    "#  принципиальные отличия между релятивистским и классическим эффектом Доплера):\n",
    "import matplotlib as mpl\n",
    "import matplotlib.pyplot as plt\n",
    "import numpy as np\n",
    "\n",
    "mpl.rc('text', usetex = True)\n",
    "mpl.rc('font', family = 'serif')\n",
    "\n",
    "#plt.rcParams['text.usetex'] = True\n",
    "\n",
    "phi = 0*np.pi # угол между направлением на источник и скоростью источника\n",
    "beta = np.linspace(0.01,0.99,100)\n",
    "rel = np.sqrt(1-beta**2)/(1-beta * np.cos(phi))\n",
    "\n",
    "fig = plt.figure()\n",
    "plt.plot(beta,rel, 'r')\n",
    "plt.xlabel(\"$v/c$\")\n",
    "plt.ylabel(\"$n/n_0$\")\n",
    "plt.show()"
   ]
  },
  {
   "cell_type": "markdown",
   "id": "bf90d9e5",
   "metadata": {},
   "source": [
    "Если объединить рассмотренные выше эффекты, проявляющиеся при движении с большими скоростями, и представить, что некоторый космический корабль движется с релятивистской скоростью, можно представить, какую картину будут наблюдать участники полета: по направлению движения цвета синеют; объекты, мимо которых пролетает корабль поворачиваются боком; область обзора спереди сжимается к точке направления движения. Симуляцию подобного движения можно посмотреть на видео ниже, а также можно озакомиться с разработанной в MIT игрой, где <a href=\"http://gamelab.mit.edu/games/a-slower-speed-of-light/\">смоделирована</a> картина мира, в которой скорость света замедлена до малых значений."
   ]
  },
  {
   "cell_type": "code",
   "execution_count": 2,
   "id": "fea3e18b",
   "metadata": {},
   "outputs": [
    {
     "data": {
      "image/jpeg": "[encoded data removed]",
      "text/html": [
       "\n",
       "        <iframe\n",
       "            width=\"800\"\n",
       "            height=\"300\"\n",
       "            src=\"https://www.youtube.com/embed/IgAII_crHHc\"\n",
       "            frameborder=\"0\"\n",
       "            allowfullscreen\n",
       "        ></iframe>\n",
       "        "
      ],
      "text/plain": [
       "<IPython.lib.display.YouTubeVideo at 0x7fb1042d9f40>"
      ]
     },
     "execution_count": 2,
     "metadata": {},
     "output_type": "execute_result"
    }
   ],
   "source": [
    "# симуляция движения с релятивисткой скоростью:\n",
    "from IPython.display import YouTubeVideo\n",
    "YouTubeVideo('IgAII_crHHc', width=800, height=300)"
   ]
  },
  {
   "cell_type": "markdown",
   "id": "7653a657",
   "metadata": {},
   "source": [
    "### Пространство Минковского и диаграммы Минковского\n",
    "\n",
    "Пространство точек-событий $\\left(ct,x,y,z\\right)$ с длиной, задаваемой интервалом $ds^2=cdt^2-dx^2-dy^2-dz^2$, назвается пространством Минковского. Иногда его еще назвают миром. Траектория любой материальной точки в пространстве Минковского называется мировой линией. Если рассмотреть одномерное движение, можно изобразить оси $Ox$ и $O\\tau$  (напомним, что $\\tau=ct$) на плоскости - получится диаграмма Минковского. Для пары событий $(0,0)$ и $(x,\\tau)$ на диаграмме области, в которых интервал является времениподобным или пространственноподобным делят плоскость на четыре сектора. Выше было найдено, что причинно-следственная связь может осуществляться только между событиями, разделенными времениподобным интервалом, квадрат которого положителен. Соответственно этому нижняя и верхняя область диаграммы (IV и II на рисунке) называются абсолютным прошым и будущем, поскольку только точки-события из этих областей могут быть причиной или следствием события $(0,0)$ соответственно. Левая и правая области (I и III на рисунке) называются абсолютно удаленным, поскольку никакая точка из этих областей не может иметь причинно-следственной связи с $(0,0)$. Прямые $\\tau=\\pm x$ задают так называемый световой конус - мировые линии фотонов, проходящие через начало отсчета.\n",
    "\n",
    "<figure>\n",
    "    <center>\n",
    "    <img src=\"./fig/lect14_fig03.png\" width=\"300\" align=\"center\"/>\n",
    "        <figcaption>Диаграмма Минковского.</figcaption>\n",
    "    </center>\n",
    "</figure>\n",
    "\n",
    "На диаграмме Минковского можно изображать события в разных системах отсчета. Чтобы нарисовать оси системы, движущейся относительно заданной со скоростью $v$, воспользуемся преобразованиями Лоренца. Ось новой системы $O'x'$ задается условием $\\tau'=0$. Следовательно, уравнение этой оси\n",
    "$$\\tau' = \\gamma(\\tau\\pm\\beta x) = 0\\Rightarrow O'x':\\;\\tau=\\pm\\beta x$$\n",
    "Аналогично, ось $O'\\tau'$ задается условием $x'=0$ и\n",
    "$$x' = \\gamma(x\\pm\\beta \\tau) = 0\\Rightarrow O'\\tau':\\;\\tau=\\pm(1/\\beta) x$$\n",
    "То есть, новые оси составляют угол $\\alpha = \\arctan(\\beta)$ с исходными.\n",
    "\n",
    "В отличие от Евклидовых координат, единичный отрезок на старых и новых осях задается с помощью интервала, и координатная сетак задается семействами гипербол:\n",
    "$$(\\Delta s)^2 = const \\Rightarrow (\\Delta\\tau)^2 + (\\Delta x)^2 = const$$\n",
    "\n",
    "<figure>\n",
    "    <center>\n",
    "    <img src=\"./fig/lect14_fig04.png\" width=\"300\" align=\"center\"/>\n",
    "        <figcaption>Преобразование ИСО на диаграмме Минковского.</figcaption>\n",
    "    </center>\n",
    "</figure>\n",
    "\n",
    "Следующий рисунок демонстрирует линии одновременности в ИСО $(\\tau,x)$ (линия $A_1A_2$) и ИСО $(\\tau',x')$ (линия $C_1C_2$), а также и мировые линии точек, неподвижных в системе $(\\tau,x)$ (линия $B_1B_2$) и $(\\tau',x') (линия D_1D_2)$.\n",
    "\n",
    "<figure>\n",
    "    <center>\n",
    "    <img src=\"./fig/lect14_fig05.png\" width=\"300\" align=\"center\"/>\n",
    "        <figcaption>Линии одновременности и мировые линии неподвижных точек в двух ИСО.</figcaption>\n",
    "    </center>\n",
    "</figure>\n",
    "\n",
    "Продемонстрируем с помощью диаграмм то, что собственное время - время, измеренное по часам, неподвижным в данной ИСО, - всегда меньше времени, измеренному в другой ИСО. Пусть начала систем совпадают. Отметим промежуток времени, отсчитанный часами, находящимися в начале координат той системы отсчета, где они неподвижны, отрезком $OA$. Время, которое показывают часы в другой системе отсчета можно отсечь на соответствующей временной оси с помощью линии одновременности в этой системе отсчета (отрезок $OB$). Пусть часы показали собственное время, равное $1$. Тогда, проводя гиперболы, задающие единичные отрезки в разных системах отсчета, можно видеть, что время, измеряемое по движущимся часам, всегда будет больше ($OB > 1$):\n",
    "\n",
    "<figure>\n",
    "    <center>\n",
    "    <img src=\"./fig/lect14_fig06.png\" width=\"500\" align=\"center\"/>\n",
    "        <figcaption>Сравнение собственного времени некоторой частицы и времени, измеренного в ИСО, где эта частица движется. Слева: собственное время измеряется в ИСО $(\\tau',x')$; справа: собственное время измеряется в ИСО $(\\tau,x)$.</figcaption>\n",
    "    </center>\n",
    "</figure>\n",
    "\n",
    "Демонстрация измерения длины производится аналогичным образом. Пусть отрезок $OA=\\ell_0 = 1$ задает длину некоторого стержня в системе отсчета, где этот стержень покоится. Рассмотрим измерение длины методом замера двумя наблюдателями в один и тот же момент времени. Проводя мировые линии концов стержня, можно отметить точки, такие, что отрезки $OB$ будут соответствовать этим замерам. Далее, проводя гиперболы, задающие единичные отрезки в разных системах отсчета, можно видеть, что измерение в любой системе, где стержень движется, даст величину $OB < \\ell_0$.\n",
    "\n",
    "<figure>\n",
    "    <center>\n",
    "    <img src=\"./fig/lect14_fig07.png\" width=\"500\" align=\"center\"/>\n",
    "        <figcaption>Сравнение измерений длины в разных ИСО. Слева: стержень покоится в ИСО $(\\tau',x')$; справа: стержень покоится в ИСО $(\\tau,x)$.</figcaption>\n",
    "    </center>\n",
    "</figure>\n"
   ]
  },
  {
   "cell_type": "markdown",
   "id": "4e5f63ea",
   "metadata": {},
   "source": [
    "### Парадокс близнецов\n",
    "\n",
    "Парадокс касается следующей ситуации: один из братьев близнецов отправился с Земли в космический полет и вернулся. С точки зрения земного наблюдателя, время на корабле будет течь медлненнее, и по возвращениии астронавт обнаружит, что его брат, оставшийся на Земле состарился сильнее него. С другой стороны, с точки зрения астронавта земной наблюдатель также движется относительно, и сильнее состариться должен путешественник. Разрешение парадокса состоит в том, что второе утверждение не совсем корректно. Принцпиальным явлется то, что земной наблюдатель все время остается в одной и той же инерциальной системе отсчтета, а путешествующий на ракете близнец обязан совершить переход между системами отсчета, испытав ускорение. Именно этот переход в итоге приводит к тому, что по возвращении он оказывается моложе.\n",
    "\n",
    "С точки зрения земного наблюдателя космонавт совершает перелет «туда-обратно» с максимальным удалением $L=vT$ с примерно одной скоростью $v$, поэтому разность показаний часов $\\Delta T=2\\left(T-T\\sqrt{1-\\dfrac{v^{2}}{c^{2}}}\\right)\\approx T\\dfrac{v^{2}}{c^{2}}$. С точки зрения космонавта на сколько же отстанут часы земного наблюдателя за время полета с постоянной скоростью. Но, чтобы развернуться, комонавт должен за некоторое время изменить скорость на противоположную с ускорением. С точки зрения земного наблюдателя, если время разворота мало, разворот ничего не изменит. Но с точки зрения космонавта на время разворота он оказывается в поле сил инерции, так что его часы замедляются по сравнению с земными. Таким образом, если земной наблюдатель все время находится в одной (приблизительно) инерциальной системе отсчета, то космонавт делает принципиальный переход из одной ИСО в другую.\n",
    "\n",
    "Проиллюстрируем полет на численном примере и нарисуем соответствующие диаграммы Минковского. Пусть $v=3c/5$, так что $\\gamma=5/4$. Пусть дальность полета составляет $L=3$ световых года. Для земного наблюдателя полет длится $2T=2L/v=10$ лет. Длительность перелета в одну сторону с точки зрения движущейся системы отсчета $T_{0}=T/\\gamma=4$ года. Нарисуем пространственно-временные диаграммы для наблюдателя и космонавта. Линии одновременности показывают, что при удалении корабля время подвижного наблюдателя относительно неподвижного течет медленнее. Если они высылают друг другу световые сигналы каждый год, то мировые линии этих сигналов - прямые, проведенные под углом $45^{\\circ}$ к вертикальной оси. Так, когда братья удаляются друг от друга, каждый из них получает сигнал раз в два года, а когда приближаются - два раза в год. При перескоке космонавта в другую систему отсчета линии его одновременности перескакивают на вертикальной оси времени земного наблюдателя с 3.2 на 6.8 лет.\n",
    "\n",
    "Взаимное старение близнецов можно получить из эффекта Доплера: частота приема сигнала при удалении $f_{out}$ обратна частоте при сближении $f_{in} = 1/f_{out}$. При этом средняя принимаемая комонавтом частота (поскольку по своим часам он удаляется и возвращается в течение одинакового времени) \n",
    "$$f_{av}=\\dfrac{1}{2}\\left(f_{in}+f_{out}\\right)=\\dfrac{f_{0}}{2}\\left(\\sqrt{\\dfrac{1+v/c}{1-v/c}}+\\sqrt{\\dfrac{1-v/c}{1+v/c}}\\right)=\\gamma f_{0}>f_{0}$$\n",
    "показывает, что космонавт примет больше сигналов с Земли, чем отправит на Землю, а фактор $\\gamma$ показывает, во сколько раз будут отличаться возрасты братьев.\n",
    "\n",
    "<figure>\n",
    "    <center>\n",
    "    <img src=\"https://www.cpp.edu/~ajm/materials/twinparadox/twins_small.jpg\" width=\"500\" align=\"center\"/>\n",
    "        <figcaption>Пространственно-временная диаграмма для парадокса близнецов: слева для системы отсчета земного наблюдателя, и справа - для системы отсчета корабля. <a href=\"https://www.cpp.edu/~ajm/materials/twinparadox.html\">Источник.</a></figcaption>\n",
    "    </center>\n",
    "</figure>"
   ]
  }
 ],
 "metadata": {
  "kernelspec": {
   "display_name": "Python 3",
   "language": "python",
   "name": "python3"
  },
  "language_info": {
   "codemirror_mode": {
    "name": "ipython",
    "version": 3
   },
   "file_extension": ".py",
   "mimetype": "text/x-python",
   "name": "python",
   "nbconvert_exporter": "python",
   "pygments_lexer": "ipython3",
   "version": "3.8.8"
  }
 },
 "nbformat": 4,
 "nbformat_minor": 5
}
